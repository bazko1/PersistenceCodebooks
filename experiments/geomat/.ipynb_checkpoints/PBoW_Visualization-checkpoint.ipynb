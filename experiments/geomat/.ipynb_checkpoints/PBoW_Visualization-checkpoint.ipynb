{
 "cells": [
  {
   "cell_type": "code",
   "execution_count": 3,
   "metadata": {},
   "outputs": [],
   "source": [
    "import sys\n",
    "sys.path.insert(0, \"../..\")"
   ]
  },
  {
   "cell_type": "code",
   "execution_count": 4,
   "metadata": {},
   "outputs": [],
   "source": [
    "import numpy as np\n",
    "import scipy.io\n",
    "from gudhi.representations.preprocessing import BirthPersistenceTransform, DiagramScaler\n",
    "from sklearn.preprocessing import MaxAbsScaler, MinMaxScaler\n",
    "from sklearn.cluster import KMeans\n",
    "from sklearn.pipeline import make_pipeline\n",
    "from preprocessing import *\n",
    "from persistent_bow import *\n",
    "from visualization import *"
   ]
  },
  {
   "cell_type": "code",
   "execution_count": 5,
   "metadata": {},
   "outputs": [
    {
     "name": "stdout",
     "output_type": "stream",
     "text": [
      "Data shape: (1, 19)\n"
     ]
    }
   ],
   "source": [
    "data_path = \"./exp03_pds.mat\"\n",
    "data_mat = scipy.io.loadmat(data_path)\n",
    "data = data_mat[\"pds\"]\n",
    "\n",
    "print(f\"Data shape: {data.shape}\")"
   ]
  },
  {
   "cell_type": "code",
   "execution_count": 6,
   "metadata": {},
   "outputs": [],
   "source": [
    "data = data.ravel()\n",
    "y = []\n",
    "for label, diagram in enumerate(data):\n",
    "    diagram = diagram.ravel()\n",
    "    y += len(diagram) * [label]\n",
    "y = np.array(y)\n",
    "\n",
    "X = np.concatenate(data.ravel())\n",
    "X = np.concatenate(X)\n",
    "\n",
    "pipe = make_pipeline(BirthPersistenceTransform(), \n",
    "               DiagramScaler(use=True, \n",
    "                             scalers=[\n",
    "                                 ((0,), MinMaxScaler(copy=False)),\n",
    "                                 ((1,), MinMaxScaler(copy=False))]))\n",
    "\n",
    "preprocessed = np.array(pipe.fit_transform(X, y))"
   ]
  },
  {
   "cell_type": "markdown",
   "metadata": {},
   "source": [
    "# KMeans clustering and PBoW codebook visualization"
   ]
  },
  {
   "cell_type": "code",
   "execution_count": null,
   "metadata": {
    "scrolled": false
   },
   "outputs": [],
   "source": [
    "vectorizer = PersistenceBow(KMeans(50, random_state=42), transformator=None, scaler=None)\n",
    "vectorizer.fit(preprocessed)\n",
    "\n",
    "for label in np.unique(y):    \n",
    "    class_X = preprocessed[y==label]\n",
    "    joined_X = np.concatenate(class_X)\n",
    "    bow = vectorizer.transform([joined_X])[0]\n",
    "    \n",
    "    plt.figure(figsize=(12,5))\n",
    "    ax = plt.subplot(121)\n",
    "    plot_voronoi(vectorizer.cluster, ax=ax, x_lim=(-1, 1))\n",
    "    ax.scatter(joined_X[:, 0], joined_X[:, 1], s=0.5)\n",
    "    ax = plt.subplot(122)\n",
    "    plot_bow(bow, 2000, ax=ax)"
   ]
  },
  {
   "cell_type": "code",
   "execution_count": null,
   "metadata": {},
   "outputs": [],
   "source": []
  }
 ],
 "metadata": {
  "kernelspec": {
   "display_name": "Python 3",
   "language": "python",
   "name": "python3"
  },
  "language_info": {
   "codemirror_mode": {
    "name": "ipython",
    "version": 3
   },
   "file_extension": ".py",
   "mimetype": "text/x-python",
   "name": "python",
   "nbconvert_exporter": "python",
   "pygments_lexer": "ipython3",
   "version": "3.7.6"
  }
 },
 "nbformat": 4,
 "nbformat_minor": 4
}
