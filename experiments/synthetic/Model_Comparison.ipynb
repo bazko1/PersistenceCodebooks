{
 "cells": [
  {
   "cell_type": "markdown",
   "metadata": {},
   "source": [
    "# Data loading"
   ]
  },
  {
   "cell_type": "code",
   "execution_count": 1,
   "metadata": {},
   "outputs": [],
   "source": [
    "import sys\n",
    "sys.path.insert(0, \"../..\")"
   ]
  },
  {
   "cell_type": "code",
   "execution_count": 2,
   "metadata": {},
   "outputs": [],
   "source": [
    "import os\n",
    "import numpy as np\n",
    "import scipy.io"
   ]
  },
  {
   "cell_type": "code",
   "execution_count": 3,
   "metadata": {},
   "outputs": [
    {
     "name": "stdout",
     "output_type": "stream",
     "text": [
      "Data shape: (50, 7)\n"
     ]
    }
   ],
   "source": [
    "data_path = \"./pd.mat\"\n",
    "data_mat = scipy.io.loadmat(data_path)\n",
    "data = data_mat[\"pds\"]\n",
    "\n",
    "print(f\"Data shape: {data.shape}\")"
   ]
  },
  {
   "cell_type": "code",
   "execution_count": 4,
   "metadata": {},
   "outputs": [],
   "source": [
    "# y - labels - type of diagram [0-7]\n",
    "# We transpose to iterate over diagram list\n",
    "y = []\n",
    "for label, diagram_list in enumerate(data.T):\n",
    "    y += len(diagram_list) * [label]\n",
    "y = np.array(y)\n",
    "\n",
    "# data.T = 2d array of diagrams as row, column as type\n",
    "X = data.T.reshape(-1)"
   ]
  },
  {
   "cell_type": "markdown",
   "metadata": {},
   "source": [
    "# Model comparison"
   ]
  },
  {
   "cell_type": "code",
   "execution_count": 5,
   "metadata": {},
   "outputs": [],
   "source": [
    "import joblib\n",
    "import pandas as pd\n",
    "import sklearn\n",
    "\n",
    "from preprocessing import *\n",
    "from persistent_bow import *\n",
    "from visualization import *\n",
    "from fisher_vector_transformer import *\n",
    "from experiments.utils import *\n",
    "\n",
    "from sklearn.cluster import KMeans, MiniBatchKMeans\n",
    "from sklearn.pipeline import Pipeline, make_pipeline\n",
    "from sklearn.model_selection import train_test_split, cross_validate, cross_val_score, StratifiedKFold, GridSearchCV\n",
    "from sklearn.metrics import accuracy_score\n",
    "from sklearn.svm import SVC, LinearSVC\n",
    "from sklearn.mixture import GaussianMixture\n",
    "\n",
    "from gudhi.representations.kernel_methods import SlicedWassersteinKernel\n",
    "from gudhi.representations.vector_methods import PersistenceImage\n",
    "from gudhi.representations.metrics import BottleneckDistance\n",
    "\n",
    "#Fast hack to make SlicedWassersteinKernel scikit-compliant\n",
    "setattr(SlicedWassersteinKernel, \"get_params\",\n",
    "        lambda self, deep: {\n",
    "            \"bandwidth\":self.bandwidth,\n",
    "            \"num_directions\" : self.sw_.num_directions\n",
    "        })"
   ]
  },
  {
   "cell_type": "code",
   "execution_count": 6,
   "metadata": {},
   "outputs": [],
   "source": [
    "X_train, X_test, y_train, y_test = train_test_split(X, y, test_size=0.20, random_state=42)\n",
    "fold = StratifiedKFold(5, shuffle=True, random_state=42)\n",
    "gridsearch_splits = np.array([split for split in fold.split(X_train, y_train)])"
   ]
  },
  {
   "cell_type": "code",
   "execution_count": 7,
   "metadata": {},
   "outputs": [],
   "source": [
    "#Helper function, constructs final pipeline and returns girdsearch for it\n",
    "def make_final_grid(estimator,\n",
    "                    param_grid,\n",
    "                    kernel=\"linear\",\n",
    "                    cv=gridsearch_splits,\n",
    "                    **kwargs):\n",
    "    new_param_grid = {f\"Model__{name}\" : values for name, values in param_grid.items()}\n",
    "    new_param_grid[\"Predictor__C\"] = [0.1, 1, 10]\n",
    "    \n",
    "    final_pipeline = Pipeline([\n",
    "        (\"Model\", estimator),\n",
    "        (\"Predictor\", SVC(kernel=kernel, max_iter=1e6))\n",
    "    ])\n",
    "    \n",
    "    return GridSearchCV(final_pipeline, new_param_grid, cv = cv, **kwargs)"
   ]
  },
  {
   "cell_type": "code",
   "execution_count": 8,
   "metadata": {},
   "outputs": [],
   "source": [
    "#PBoW gridsearch\n",
    "pbow_gridsearch = make_final_grid(\n",
    "    estimator = PersistentBow(KMeans(7, n_init=1, max_iter=100, random_state=42),\n",
    "                              sampler=RandomPDSampler(2500, random_state=42)),\n",
    "    param_grid = {\n",
    "        \"cluster__n_clusters\" : np.arange(10, 150, 15),\n",
    "        \"sampler__max_points\" : np.arange(1000, 10000, 2000),\n",
    "        \"sampler__weight_function\" : [const, linear]\n",
    "    },\n",
    "    n_jobs = -1\n",
    ")\n",
    "\n",
    "#SPBoW gridsearch\n",
    "spbow_gridsearch = make_final_grid(\n",
    "    estimator = StablePersistentBow(GaussianMixture(covariance_type=\"diag\", random_state=42),\n",
    "                              sampler=RandomPDSampler(2500, random_state=42)),\n",
    "    param_grid = {\n",
    "        \"mixture__n_components\" : np.arange(10, 200, 15),\n",
    "        \"sampler__max_points\" : np.arange(1000, 13000, 2000),\n",
    "        \"sampler__weight_function\" : [const, linear]\n",
    "    },\n",
    "    n_jobs = -1\n",
    ")\n",
    "\n",
    "#PBoW gridsearch with grid sampler\n",
    "pbow_grid_gridsearch = make_final_grid(\n",
    "    estimator = PersistentBow(KMeans(7, n_init=1, max_iter=100, random_state=42),\n",
    "                              sampler=GridPDSampler((10,10), 100, random_state=42)),\n",
    "    param_grid = {\n",
    "        \"cluster__n_clusters\" : np.arange(10, 150, 15),\n",
    "        \"sampler__max_points\" : [10, 50, 100, 200, 500],\n",
    "        \"sampler__grid_shape\" : [(5,5), (10,10), (15,15), (20,20), (40,40)],\n",
    "        \"sampler__weight_function\" : [const, linear]\n",
    "    },\n",
    "    n_jobs = -1\n",
    ")\n",
    "\n",
    "#SPBoW gridsearch with grid sampler\n",
    "spbow_grid_gridsearch = make_final_grid(\n",
    "    estimator = StablePersistentBow(GaussianMixture(covariance_type=\"diag\", random_state=42),\n",
    "                              sampler=GridPDSampler((10,10),100, random_state=42)),\n",
    "    param_grid = {\n",
    "        \"mixture__n_components\" : np.arange(10, 200, 15),\n",
    "        \"sampler__max_points\" : [10, 50, 100, 200, 500],\n",
    "        \"sampler__grid_shape\" : [(5,5), (10,10), (15,15), (20,20), (40,40)],\n",
    "        \"sampler__weight_function\" : [const, linear]\n",
    "    },\n",
    "    n_jobs = -1\n",
    ")\n",
    "\n",
    "\n",
    "#SlicedWassersteinKernel gridsearch (without using it as kernel)\n",
    "swk_gridsearch = make_final_grid(\n",
    "    estimator = SlicedWassersteinKernel(),\n",
    "    param_grid = {\n",
    "        \"bandwidth\" : [0.05, 0.1, 0.25, 0.5, 1, 1.5, 2],\n",
    "        \"num_directions\" : [5, 10, 15, 20, 25]\n",
    "    },\n",
    "    n_jobs = -1    \n",
    ")\n",
    "\n",
    "#SlicedWassersteinKernel gridsearch (using it as kernel)\n",
    "swk_ker_gridsearch = make_final_grid(\n",
    "    estimator = SlicedWassersteinKernel(),\n",
    "    param_grid = {\n",
    "        \"bandwidth\" : [0.05, 0.1, 0.25, 0.5, 1, 1.5, 2],\n",
    "        \"num_directions\" : [5, 10, 15, 20, 25]\n",
    "    },\n",
    "    kernel=\"precomputed\",\n",
    "    n_jobs = -1\n",
    ")\n",
    "\n",
    "#BottleneckDistance gridsearch\n",
    "bd_gridsearch = make_final_grid(\n",
    "    estimator = BottleneckDistance(),\n",
    "    param_grid = {\n",
    "        \"epsilon\" : [1e-8, None]\n",
    "    },\n",
    "    n_jobs = -1  \n",
    ")\n",
    "\n",
    "#PersistenceImage gridsearch\n",
    "pi_gridsearch = make_final_grid(\n",
    "    estimator = PersistenceImage(),\n",
    "    param_grid = {\n",
    "        \"bandwidth\" : [0.1, 0.25, 0.5, 1, 1.5],\n",
    "        \"weight\" : [const, linear, pow2],\n",
    "        \"resolution\" : [(10,10), (20,20), (40,40), (50, 50)],\n",
    "    },\n",
    "    n_jobs = -1\n",
    ")\n",
    "\n",
    "# Fisher_vector \n",
    "fisher_vector_gridsearch = make_final_grid(\n",
    "    FisherVectorTransformer(sampler=RandomPDSampler(random_state=42)), \n",
    "    param_grid = {\n",
    "        \"gmm_clusters_number\" : np.arange(10, 200, 15),\n",
    "        \"sampler__max_points\" : np.arange(1000, 13000, 2000),\n",
    "        \"sampler__weight_function\" : [const, linear]},\n",
    "    n_jobs= - 1)\n",
    "\n",
    "# Fisher_vector with grid sampler\n",
    "fisher_vector_grid_gridsearch = make_final_grid(\n",
    "    FisherVectorTransformer(sampler=GridPDSampler((10,10), 100,random_state=42)), \n",
    "    param_grid = {\n",
    "        \"gmm_clusters_number\" : np.arange(10, 200, 15),\n",
    "        \"sampler__max_points\" : [10, 50, 100, 200, 500],\n",
    "        \"sampler__grid_shape\" : [(5,5), (10,10), (15,15), (20,20), (40,40)],\n",
    "        \"sampler__weight_function\" : [const, linear]},\n",
    "    n_jobs= - 1)\n",
    "\n",
    "models_to_test = {\n",
    "    \"PBoW\" : pbow_gridsearch, \n",
    "    \"PBoW_Grid\" : pbow_grid_gridsearch,\n",
    "    \"SPboW\" : spbow_gridsearch,\n",
    "    \"SPBoW_Grid\" : spbow_grid_gridsearch,\n",
    "    \"SWK\" : swk_gridsearch, \n",
    "    \"SWK_ker\" : swk_ker_gridsearch,\n",
    "    \"Bottleneck\" : bd_gridsearch,\n",
    "    \"PersistenceImage\" : pi_gridsearch,\n",
    "    \"FisherVector\": fisher_vector_gridsearch,\n",
    "    \"FisherVector_Grid\": fisher_vector_grid_gridsearch\n",
    "}"
   ]
  },
  {
   "cell_type": "code",
   "execution_count": 9,
   "metadata": {
    "scrolled": true
   },
   "outputs": [
    {
     "name": "stdout",
     "output_type": "stream",
     "text": [
      "PBoW\n",
      "Loaded from file\n",
      "PBoW_Grid\n",
      "Loaded from file\n",
      "SPboW\n",
      "Loaded from file\n",
      "SPBoW_Grid\n",
      "Loaded from file\n",
      "SWK\n",
      "Loaded from file\n",
      "SWK_ker\n",
      "Loaded from file\n",
      "Bottleneck\n",
      "Loaded from file\n",
      "PersistenceImage\n",
      "Loaded from file\n",
      "FisherVector\n",
      "Loaded from file\n",
      "FisherVector_Grid\n",
      "Loaded from file\n"
     ]
    }
   ],
   "source": [
    "#Hyperparameter optimization\n",
    "for name, grid in models_to_test.items():\n",
    "    print(name)\n",
    "    grid_path = f\"precomputed/grid/{name}.dill\"\n",
    "    \n",
    "    out = load(grid_path)\n",
    "    if out:\n",
    "        print(\"Loaded from file\")\n",
    "        models_to_test[name] = out\n",
    "    else:\n",
    "        grid.verbose = 10\n",
    "        grid.fit(X_train, y_train)\n",
    "        save(grid, grid_path)"
   ]
  },
  {
   "cell_type": "markdown",
   "metadata": {},
   "source": [
    "## Comparison of best estimators"
   ]
  },
  {
   "cell_type": "code",
   "execution_count": 10,
   "metadata": {},
   "outputs": [],
   "source": [
    "#Score calculation\n",
    "grid_path = \"precomputed/grid\"\n",
    "cv_path = \"precomputed/cv\"\n",
    "\n",
    "for filename in os.listdir(grid_path):\n",
    "    name = os.path.splitext(filename)[0]\n",
    "    grid = load(os.path.join(grid_path, filename))\n",
    "    results = load(os.path.join(cv_path, filename))\n",
    "    \n",
    "    if not results:\n",
    "        print(\"Computing\", name)\n",
    "        model = grid.best_estimator_\n",
    "        model.fit(X_train, y_train)\n",
    "        results = model.score(X_test, y_test)\n",
    "        save(results, os.path.join(cv_path, f\"{name}.dill\"))"
   ]
  },
  {
   "cell_type": "code",
   "execution_count": 11,
   "metadata": {},
   "outputs": [
    {
     "name": "stdout",
     "output_type": "stream",
     "text": [
      "SWK_ker Test set score:\n",
      " 0.9857142857142858 \n",
      "\n",
      "PBoW_Grid Test set score:\n",
      " 0.9428571428571428 \n",
      "\n",
      "SPboW Test set score:\n",
      " 0.9714285714285714 \n",
      "\n",
      "PersistenceImage Test set score:\n",
      " 0.9571428571428572 \n",
      "\n",
      "SPBoW_Grid Test set score:\n",
      " 0.9857142857142858 \n",
      "\n",
      "PBoW Test set score:\n",
      " 0.9571428571428572 \n",
      "\n",
      "Bottleneck Test set score:\n",
      " 0.7142857142857143 \n",
      "\n",
      "SWK Test set score:\n",
      " 0.9857142857142858 \n",
      "\n",
      "FisherVector Test set score:\n",
      " 0.8571428571428571 \n",
      "\n",
      "FisherVector_Grid Test set score:\n",
      " 0.9285714285714286 \n",
      "\n"
     ]
    }
   ],
   "source": [
    "#Printing scores\n",
    "base_path = \"precomputed/cv\"\n",
    "for filename in os.listdir(base_path):\n",
    "    path = os.path.join(base_path, filename)\n",
    "    name = os.path.splitext(filename)[0]\n",
    "    \n",
    "    result = load(path)\n",
    "    print(name, \"Test set score:\\n\", result, \"\\n\")"
   ]
  },
  {
   "cell_type": "markdown",
   "metadata": {},
   "source": [
    "## Listing  of best parameters for each model"
   ]
  },
  {
   "cell_type": "code",
   "execution_count": 12,
   "metadata": {},
   "outputs": [
    {
     "name": "stdout",
     "output_type": "stream",
     "text": [
      "PBoW Best parameters:\n",
      "Model__cluster__n_clusters : 70\n",
      "Model__sampler__max_points : 1000\n",
      "Model__sampler__weight_function : <function linear at 0x7f04078559e0>\n",
      "Predictor__C : 0.1\n",
      "\n",
      "PBoW_Grid Best parameters:\n",
      "Model__cluster__n_clusters : 115\n",
      "Model__sampler__grid_shape : (20, 20)\n",
      "Model__sampler__max_points : 10\n",
      "Model__sampler__weight_function : <function const at 0x7f0407855950>\n",
      "Predictor__C : 1\n",
      "\n",
      "SPboW Best parameters:\n",
      "Model__mixture__n_components : 85\n",
      "Model__sampler__max_points : 3000\n",
      "Model__sampler__weight_function : <function const at 0x7f0407855950>\n",
      "Predictor__C : 10\n",
      "\n",
      "SPBoW_Grid Best parameters:\n",
      "Model__mixture__n_components : 25\n",
      "Model__sampler__grid_shape : (10, 10)\n",
      "Model__sampler__max_points : 500\n",
      "Model__sampler__weight_function : <function linear at 0x7f04078559e0>\n",
      "Predictor__C : 10\n",
      "\n",
      "SWK Best parameters:\n",
      "Model__bandwidth : 0.1\n",
      "Model__num_directions : 5\n",
      "Predictor__C : 1\n",
      "\n",
      "SWK_ker Best parameters:\n",
      "Model__bandwidth : 1\n",
      "Model__num_directions : 5\n",
      "Predictor__C : 10\n",
      "\n",
      "Bottleneck Best parameters:\n",
      "Model__epsilon : 1e-08\n",
      "Predictor__C : 10\n",
      "\n",
      "PersistenceImage Best parameters:\n",
      "Model__bandwidth : 0.1\n",
      "Model__resolution : (40, 40)\n",
      "Model__weight : <function linear at 0x7f04078559e0>\n",
      "Predictor__C : 10\n",
      "\n",
      "FisherVector Best parameters:\n",
      "Model__gmm_clusters_number : 160\n",
      "Model__sampler__max_points : 1000\n",
      "Model__sampler__weight_function : <function linear at 0x7f04078559e0>\n",
      "Predictor__C : 10\n",
      "\n",
      "FisherVector_Grid Best parameters:\n",
      "Model__gmm_clusters_number : 40\n",
      "Model__sampler__grid_shape : (15, 15)\n",
      "Model__sampler__max_points : 100\n",
      "Model__sampler__weight_function : <function const at 0x7f0407855950>\n",
      "Predictor__C : 10\n",
      "\n"
     ]
    }
   ],
   "source": [
    "for name, grid in models_to_test.items():\n",
    "    print(name, \"Best parameters:\")\n",
    "    grid_params = grid.best_params_\n",
    "    for param_name, value in grid_params.items():\n",
    "        print(f'{param_name} : {value}')\n",
    "    print()"
   ]
  },
  {
   "cell_type": "markdown",
   "metadata": {},
   "source": [
    "## Plot - PBoW accuracy vs n_clusters"
   ]
  },
  {
   "cell_type": "code",
   "execution_count": 13,
   "metadata": {},
   "outputs": [
    {
     "name": "stdout",
     "output_type": "stream",
     "text": [
      "Plotting for n_clusters: 10 25 40 55 70 85 100 115 130 145 "
     ]
    },
    {
     "data": {
      "text/plain": [
       "Text(0.5, 1.0, 'Accuracy on test set vs number of components')"
      ]
     },
     "execution_count": 13,
     "metadata": {},
     "output_type": "execute_result"
    },
    {
     "data": {
      "image/png": "[encoded data removed]",
      "text/plain": [
       "<Figure size 432x288 with 1 Axes>"
      ]
     },
     "metadata": {
      "needs_background": "light"
     },
     "output_type": "display_data"
    }
   ],
   "source": [
    "best_estimator = models_to_test[\"PBoW\"].best_estimator_\n",
    "n_clusters_range = models_to_test[\"PBoW\"].param_grid[\"Model__cluster__n_clusters\"]\n",
    "\n",
    "result_list = []\n",
    "print(\"Plotting for n_clusters:\", end=\" \")\n",
    "for n_clusters in n_clusters_range:\n",
    "    estimator = sklearn.base.clone(best_estimator)\n",
    "    print(n_clusters, end = \" \")\n",
    "    estimator.set_params(Model__cluster__n_clusters=n_clusters)\n",
    "    estimator.fit(X_train, y_train)\n",
    "    results = estimator.score(X_test, y_test)\n",
    "    result_list.append(results)\n",
    "    \n",
    "plt.plot(n_clusters_range, result_list, label=\"Accuracy score\")\n",
    "plt.xlabel(\"Components\")\n",
    "plt.legend()\n",
    "plt.title(\"Accuracy on test set vs number of components\")"
   ]
  },
  {
   "cell_type": "markdown",
   "metadata": {},
   "source": [
    "## Plot - PBoW accuracy vs sampler max_points"
   ]
  },
  {
   "cell_type": "code",
   "execution_count": 14,
   "metadata": {},
   "outputs": [
    {
     "name": "stdout",
     "output_type": "stream",
     "text": [
      "Plotting for points:  1000 3000 5000 7000 9000 "
     ]
    },
    {
     "data": {
      "text/plain": [
       "Text(0.5, 1.0, 'Accuracy on test set vs max_points')"
      ]
     },
     "execution_count": 14,
     "metadata": {},
     "output_type": "execute_result"
    },
    {
     "data": {
      "image/png": "[encoded data removed]",
      "text/plain": [
       "<Figure size 432x288 with 1 Axes>"
      ]
     },
     "metadata": {
      "needs_background": "light"
     },
     "output_type": "display_data"
    }
   ],
   "source": [
    "best_estimator = models_to_test[\"PBoW\"].best_estimator_\n",
    "max_points_range = models_to_test[\"PBoW\"].param_grid[\"Model__sampler__max_points\"]\n",
    "\n",
    "print(\"Plotting for points: \", end=\" \")\n",
    "\n",
    "result_list = []\n",
    "for max_points in max_points_range:\n",
    "    estimator = sklearn.base.clone(best_estimator)\n",
    "    print(max_points, end = \" \")\n",
    "    estimator = estimator.set_params(Model__sampler__max_points=max_points)\n",
    "    estimator.fit(X_train, y_train)\n",
    "    results = estimator.score(X_test, y_test)\n",
    "    result_list.append(results)\n",
    "    \n",
    "plt.plot(max_points_range, result_list, label=\"Accuracy score\")\n",
    "plt.xlabel(\"Max points\")\n",
    "plt.legend()\n",
    "plt.title(\"Accuracy on test set vs max_points\")"
   ]
  },
  {
   "cell_type": "code",
   "execution_count": null,
   "metadata": {},
   "outputs": [],
   "source": []
  }
 ],
 "metadata": {
  "kernelspec": {
   "display_name": "Python 3",
   "language": "python",
   "name": "python3"
  },
  "language_info": {
   "codemirror_mode": {
    "name": "ipython",
    "version": 3
   },
   "file_extension": ".py",
   "mimetype": "text/x-python",
   "name": "python",
   "nbconvert_exporter": "python",
   "pygments_lexer": "ipython3",
   "version": "3.7.6"
  }
 },
 "nbformat": 4,
 "nbformat_minor": 4
}
