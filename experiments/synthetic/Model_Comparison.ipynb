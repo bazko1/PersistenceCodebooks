{
 "cells": [
  {
   "cell_type": "markdown",
   "metadata": {},
   "source": [
    "# Data loading"
   ]
  },
  {
   "cell_type": "code",
   "execution_count": 1,
   "metadata": {},
   "outputs": [],
   "source": [
    "import sys\n",
    "sys.path.insert(0, \"../..\")"
   ]
  },
  {
   "cell_type": "code",
   "execution_count": 2,
   "metadata": {},
   "outputs": [],
   "source": [
    "import os\n",
    "import numpy as np\n",
    "import scipy.io"
   ]
  },
  {
   "cell_type": "code",
   "execution_count": 3,
   "metadata": {},
   "outputs": [
    {
     "name": "stdout",
     "output_type": "stream",
     "text": [
      "Data shape: (50, 7)\n"
     ]
    }
   ],
   "source": [
    "data_path = \"./pd.mat\"\n",
    "data_mat = scipy.io.loadmat(data_path)\n",
    "data = data_mat[\"pds\"]\n",
    "\n",
    "print(f\"Data shape: {data.shape}\")"
   ]
  },
  {
   "cell_type": "code",
   "execution_count": 4,
   "metadata": {},
   "outputs": [],
   "source": [
    "# y - labels - type of diagram [0-7]\n",
    "# We transpose to iterate over diagram list\n",
    "y = []\n",
    "for label, diagram_list in enumerate(data.T):\n",
    "    y += len(diagram_list) * [label]\n",
    "y = np.array(y)\n",
    "\n",
    "# data.T = 2d array of diagrams as row, column as type\n",
    "X = data.T.reshape(-1)"
   ]
  },
  {
   "cell_type": "markdown",
   "metadata": {},
   "source": [
    "# Model comparison\n",
    "## First step: Model hyperparameter optimization"
   ]
  },
  {
   "cell_type": "code",
   "execution_count": 5,
   "metadata": {},
   "outputs": [],
   "source": [
    "import joblib\n",
    "import pandas as pd\n",
    "\n",
    "from preprocessing import *\n",
    "from persistent_bow import *\n",
    "from visualization import *\n",
    "from fisher_vector_transformer import *\n",
    "\n",
    "from sklearn.cluster import KMeans, MiniBatchKMeans\n",
    "from sklearn.pipeline import Pipeline, make_pipeline\n",
    "from sklearn.model_selection import train_test_split, cross_validate, cross_val_score, StratifiedKFold, GridSearchCV\n",
    "from sklearn.metrics import accuracy_score\n",
    "from sklearn.svm import SVC, LinearSVC\n",
    "from sklearn.mixture import GaussianMixture\n",
    "\n",
    "from gudhi.representations.kernel_methods import SlicedWassersteinKernel\n",
    "from gudhi.representations.vector_methods import PersistenceImage\n",
    "from gudhi.representations.metrics import BottleneckDistance\n",
    "\n",
    "#Fast hack to make SlicedWassersteinKernel scikit-compliant\n",
    "setattr(SlicedWassersteinKernel, \"get_params\",\n",
    "        lambda self, deep: {\n",
    "            \"bandwidth\":self.bandwidth,\n",
    "            \"num_directions\" : self.sw_.num_directions\n",
    "        })"
   ]
  },
  {
   "cell_type": "code",
   "execution_count": 6,
   "metadata": {},
   "outputs": [],
   "source": [
    "#X_train, X_test, y_train, y_test = train_test_split(X, y, test_size=0.20, random_state=42)\n",
    "fold = StratifiedKFold(5, shuffle=True, random_state=42)\n",
    "splits = np.array([split for split in fold.split(X, y)])"
   ]
  },
  {
   "cell_type": "code",
   "execution_count": 7,
   "metadata": {},
   "outputs": [],
   "source": [
    "#Helper function, constructs final pipeline and returns girdsearch for it\n",
    "def make_final_grid(estimator, param_grid, kernel=\"linear\", cv=splits, *args, **kwargs ):\n",
    "    new_param_grid = {f\"Model__{name}\" : values for name, values in param_grid.items()}\n",
    "    new_param_grid[\"Predictor__C\"] = [0.1, 1, 10]\n",
    "    \n",
    "    final_pipeline = Pipeline([\n",
    "        (\"Model\", estimator),\n",
    "        (\"Predictor\", SVC(kernel=kernel, max_iter=1e6))\n",
    "    ])\n",
    "    \n",
    "    return GridSearchCV(final_pipeline, new_param_grid, cv = cv\n",
    "                        , *args, **kwargs)"
   ]
  },
  {
   "cell_type": "code",
   "execution_count": 8,
   "metadata": {},
   "outputs": [],
   "source": [
    "# Weight functions\n",
    "\n",
    "def const(x):\n",
    "    return 1\n",
    "\n",
    "def linear(x):\n",
    "    return x[1]\n",
    "\n",
    "def pow2(x):\n",
    "    return x[1]**2"
   ]
  },
  {
   "cell_type": "code",
   "execution_count": 9,
   "metadata": {},
   "outputs": [],
   "source": [
    "#PBoW gridsearch\n",
    "pbow_gridsearch = make_final_grid(\n",
    "    estimator = PersistentBow(KMeans(7, n_init=1, max_iter=100, random_state=42),\n",
    "                              sampler=RandomPDSampler(2500, random_state=42)),\n",
    "    param_grid = {\n",
    "        \"cluster__n_clusters\" : np.arange(10, 200, 10),\n",
    "        \"sampler__max_points\" : np.arange(1000, 13000, 1000),\n",
    "        \"sampler__weight_function\" : [const, linear, pow2]\n",
    "    },\n",
    "    n_jobs = -1\n",
    ")\n",
    "\n",
    "#SPBoW gridsearch\n",
    "spbow_gridsearch = make_final_grid(\n",
    "    estimator = StablePersistentBow(GaussianMixture(random_state=42),\n",
    "                              sampler=RandomPDSampler(2500, random_state=42)),\n",
    "    param_grid = {\n",
    "        \"mixture__n_components\" : np.arange(10, 200, 10),\n",
    "        \"sampler__max_points\" : np.arange(1000, 13000, 1000),\n",
    "        \"sampler__weight_function\" : [const, linear, pow2]\n",
    "    },\n",
    "    n_jobs = -1\n",
    ")\n",
    "\n",
    "# PBOW with KMeans from VLFeat # TODO: This is Vl kmeans are 2 functions only\n",
    "# We need to wrap it with something what fits fit, transform API\n",
    "# pbow_on_stereoids = pbow_pipeline = Pipeline([\n",
    "#     (\"pbow\",  PersistentBow(Vlkmeans(7,2), sampler=RandomPDSampler(2500)))\n",
    "# ])\n",
    "\n",
    "\n",
    "#SlicedWassersteinKernel gridsearch (without using it as kernel)\n",
    "swk_gridsearch = make_final_grid(\n",
    "    estimator = SlicedWassersteinKernel(),\n",
    "    param_grid = {\n",
    "        \"bandwidth\" : [0.05, 0.1, 0.25, 0.5, 1, 1.5, 2],\n",
    "        \"num_directions\" : [5, 10, 15, 20, 25]\n",
    "    },\n",
    "    n_jobs = -1    \n",
    ")\n",
    "\n",
    "#SlicedWassersteinKernel gridsearch (using it as kernel)\n",
    "swk_ker_gridsearch = make_final_grid(\n",
    "    estimator = SlicedWassersteinKernel(),\n",
    "    param_grid = {\n",
    "        \"bandwidth\" : [0.05, 0.1, 0.25, 0.5, 1, 1.5, 2],\n",
    "        \"num_directions\" : [5, 10, 15, 20, 25]\n",
    "    },\n",
    "    kernel=\"precomputed\",\n",
    "    n_jobs = -1\n",
    ")\n",
    "\n",
    "#BottleneckDistance gridsearch\n",
    "bd_gridsearch = make_final_grid(\n",
    "    estimator = BottleneckDistance(),\n",
    "    param_grid = {\n",
    "        \"epsilon\" : [1e-8, None]\n",
    "    },\n",
    "    n_jobs = -1  \n",
    ")\n",
    "\n",
    "#PersistenceImage gridsearch\n",
    "pi_gridsearch = make_final_grid(\n",
    "    estimator = PersistenceImage(),\n",
    "    param_grid = {\n",
    "        \"bandwidth\" : [0.1, 0.25, 0.5, 1, 1.5],\n",
    "        \"weight\" : [const, linear, pow2],\n",
    "        \"resolution\" : [(10,10), (20,20), (40,40), (50, 50)],\n",
    "    },\n",
    "    n_jobs = -1\n",
    ")\n",
    "\n",
    "# Fisher_vector \n",
    "fisher_vector_test = make_final_grid(\n",
    "    FisherVectorTransformer(), \n",
    "    param_grid = {\n",
    "        \"gmm_clusters_number\" : np.arange(10, 200, 10),\n",
    "        \"sampler__max_points\" : np.arange(1000, 13000, 1000),\n",
    "        \"sampler__weight_function\" : [const, linear, pow2]},\n",
    "    n_jobs= - 1)\n",
    "\n",
    "models_to_test = {\n",
    "    \"PBoW\" : pbow_gridsearch, \n",
    "    \"SPboW\" : spbow_gridsearch,\n",
    "    \"SWK\" : swk_gridsearch, \n",
    "    \"SWK_ker\" : swk_ker_gridsearch,\n",
    "    \"Bottleneck\" : bd_gridsearch,\n",
    "    \"PersistenceImage\" : pi_gridsearch,\n",
    "    \"FisherVector\": fisher_vector_test\n",
    "}"
   ]
  },
  {
   "cell_type": "code",
   "execution_count": 10,
   "metadata": {},
   "outputs": [],
   "source": [
    "import pathlib\n",
    "import dill\n",
    "import os\n",
    "\n",
    "#helper functions for serialized objects \n",
    "\n",
    "def load(path):\n",
    "    if os.path.exists(path):\n",
    "        with open(path, \"br\") as f:\n",
    "            return dill.load(f)\n",
    "    \n",
    "    return None\n",
    "\n",
    "def save(obj, path):\n",
    "    folder = os.path.dirname(path)\n",
    "    if not os.path.exists(folder):\n",
    "        os.mkdir(folder)\n",
    "        \n",
    "    with open(path, \"bw\") as f:\n",
    "        dill.dump(obj, f)\n",
    "        "
   ]
  },
  {
   "cell_type": "code",
   "execution_count": 11,
   "metadata": {
    "scrolled": true
   },
   "outputs": [
    {
     "name": "stdout",
     "output_type": "stream",
     "text": [
      "PBoW\n",
      "Loaded from file\n",
      "SPboW\n",
      "Loaded from file\n",
      "SWK\n",
      "Loaded from file\n",
      "SWK_ker\n",
      "Loaded from file\n",
      "Bottleneck\n",
      "Loaded from file\n",
      "PersistenceImage\n",
      "Loaded from file\n",
      "FisherVector\n",
      "Loaded from file\n"
     ]
    }
   ],
   "source": [
    "for name, grid in models_to_test.items():\n",
    "    print(name)\n",
    "    grid_path = f\"precomputed/grid/{name}.dill\"\n",
    "    \n",
    "    out = load(grid_path)\n",
    "    if out:\n",
    "        print(\"Loaded from file\")\n",
    "        models_to_test[name] = out\n",
    "    else:\n",
    "        grid.verbose = 10\n",
    "        grid.fit(X, y)\n",
    "        save(grid, grid_path)"
   ]
  },
  {
   "cell_type": "markdown",
   "metadata": {},
   "source": [
    "## Comparison of best estimators"
   ]
  },
  {
   "cell_type": "code",
   "execution_count": 12,
   "metadata": {},
   "outputs": [],
   "source": [
    "#Grid computation\n",
    "grid_path = \"precomputed/grid\"\n",
    "cv_path = \"precomputed/cv\"\n",
    "\n",
    "for filename in os.listdir(grid_path):\n",
    "    name = os.path.splitext(filename)[0]\n",
    "    grid = load(os.path.join(grid_path, filename))\n",
    "    results = load(os.path.join(cv_path, filename))\n",
    "    \n",
    "    if not results:\n",
    "        print(\"Computing\", name)\n",
    "        model = grid.best_estimator_\n",
    "        results = cross_validate(model, X, y, cv=splits)\n",
    "        save(results, os.path.join(cv_path, f\"{name}.dill\"))\n",
    "    "
   ]
  },
  {
   "cell_type": "code",
   "execution_count": 13,
   "metadata": {},
   "outputs": [],
   "source": [
    "#Final crossval score computation\n",
    "grid_path = \"precomputed/grid\"\n",
    "cv_path = \"precomputed/cv\"\n",
    "\n",
    "for filename in os.listdir(grid_path):\n",
    "    name = os.path.splitext(filename)[0]\n",
    "    grid = load(os.path.join(grid_path, filename))\n",
    "    results = load(os.path.join(cv_path, filename))\n",
    "    \n",
    "    if not results:\n",
    "        print(\"Computing\", name)\n",
    "        model = grid.best_estimator_\n",
    "        results = cross_validate(model, X, y, cv=splits)\n",
    "        save(results, os.path.join(cv_path, f\"{name}.dill\"))\n",
    "    "
   ]
  },
  {
   "cell_type": "code",
   "execution_count": 14,
   "metadata": {},
   "outputs": [
    {
     "name": "stdout",
     "output_type": "stream",
     "text": [
      "SWK_ker Mean scores:\n",
      "fit_time      3.987491\n",
      "score_time    1.979840\n",
      "test_score    0.980000\n",
      "dtype: float64 \n",
      "\n",
      "FisherVector_prev Mean scores:\n",
      "fit_time      0.720408\n",
      "score_time    0.015262\n",
      "test_score    0.911429\n",
      "dtype: float64 \n",
      "\n",
      "SPboW Mean scores:\n",
      "fit_time      10.585630\n",
      "score_time     0.046251\n",
      "test_score     0.982857\n",
      "dtype: float64 \n",
      "\n",
      "PersistenceImage Mean scores:\n",
      "fit_time      0.244624\n",
      "score_time    0.032129\n",
      "test_score    0.960000\n",
      "dtype: float64 \n",
      "\n",
      "PBoW Mean scores:\n",
      "fit_time      0.587050\n",
      "score_time    0.049509\n",
      "test_score    0.982857\n",
      "dtype: float64 \n",
      "\n",
      "PersistenceLandscape Mean scores:\n",
      "fit_time      1.740172\n",
      "score_time    0.433266\n",
      "test_score    0.891429\n",
      "dtype: float64 \n",
      "\n",
      "Bottleneck Mean scores:\n",
      "fit_time      49.474697\n",
      "score_time    25.002021\n",
      "test_score     0.860000\n",
      "dtype: float64 \n",
      "\n",
      "SWK Mean scores:\n",
      "fit_time      4.058519\n",
      "score_time    2.017432\n",
      "test_score    0.977143\n",
      "dtype: float64 \n",
      "\n",
      "FisherVector Mean scores:\n",
      "fit_time      0.433549\n",
      "score_time    0.016172\n",
      "test_score    0.917143\n",
      "dtype: float64 \n",
      "\n"
     ]
    }
   ],
   "source": [
    "#Printing scores\n",
    "base_path = \"precomputed/cv\"\n",
    "for filename in os.listdir(base_path):\n",
    "    path = os.path.join(base_path, filename)\n",
    "    name = os.path.splitext(filename)[0]\n",
    "    \n",
    "    results = load(path)\n",
    "    print(name, \"Mean scores:\")\n",
    "    df = pd.DataFrame(results)\n",
    "    print(df.mean(), \"\\n\")"
   ]
  },
  {
   "cell_type": "markdown",
   "metadata": {},
   "source": [
    "## Listing  of best parameters for each model"
   ]
  },
  {
   "cell_type": "code",
   "execution_count": 15,
   "metadata": {},
   "outputs": [
    {
     "name": "stdout",
     "output_type": "stream",
     "text": [
      "PBoW Best parameters:\n",
      "Model__cluster__n_clusters : 40\n",
      "Model__sampler__max_points : 10000\n",
      "Model__sampler__weight_function : <function linear at 0x7f04014d7440>\n",
      "Predictor__C : 1\n",
      "\n",
      "SPboW Best parameters:\n",
      "Model__mixture__n_components : 10\n",
      "Model__sampler__max_points : 2000\n",
      "Model__sampler__weight_function : <function const at 0x7f04014d7680>\n",
      "Predictor__C : 1\n",
      "\n",
      "SWK Best parameters:\n",
      "Model__bandwidth : 0.1\n",
      "Model__num_directions : 10\n",
      "Predictor__C : 1\n",
      "\n",
      "SWK_ker Best parameters:\n",
      "Model__bandwidth : 0.5\n",
      "Model__num_directions : 10\n",
      "Predictor__C : 10\n",
      "\n",
      "Bottleneck Best parameters:\n",
      "Model__epsilon : 1e-08\n",
      "Predictor__C : 10\n",
      "\n",
      "PersistenceImage Best parameters:\n",
      "Model__bandwidth : 0.1\n",
      "Model__weight : <function const at 0x7f04014d7b00>\n",
      "Model__resolution : (10, 10)\n",
      "Predictor__C : 1\n",
      "\n",
      "FisherVector Best parameters:\n",
      "Model__gmm_clusters_number : 20\n",
      "Model__sampler__max_points : 3000\n",
      "Model__sampler__weight_function : <function linear at 0x7f0401325050>\n",
      "Predictor__C : 10\n",
      "\n"
     ]
    }
   ],
   "source": [
    "for name, grid in models_to_test.items():\n",
    "    print(name, \"Best parameters:\")\n",
    "    grid_params = grid.param_grid.keys()\n",
    "    model = grid.best_estimator_\n",
    "    for param_name in grid_params:\n",
    "        param = model.get_params()[param_name]\n",
    "        print(f'{param_name} :', param)\n",
    "    print()"
   ]
  },
  {
   "cell_type": "markdown",
   "metadata": {},
   "source": [
    "## Plot - PBoW accuracy vs n_clusters"
   ]
  },
  {
   "cell_type": "code",
   "execution_count": 16,
   "metadata": {},
   "outputs": [
    {
     "data": {
      "text/plain": [
       "Text(0.5, 1.0, 'Accuracy vs number of components')"
      ]
     },
     "execution_count": 16,
     "metadata": {},
     "output_type": "execute_result"
    },
    {
     "data": {
      "image/png": "[encoded data removed]",
      "text/plain": [
       "<Figure size 432x288 with 1 Axes>"
      ]
     },
     "metadata": {
      "needs_background": "light"
     },
     "output_type": "display_data"
    }
   ],
   "source": [
    "best_max_points = models_to_test[\"PBoW\"].best_params_[\"Model__sampler__max_points\"]\n",
    "best_n_clusters = models_to_test[\"PBoW\"].best_params_[\"Model__cluster__n_clusters\"]\n",
    "best_weight = models_to_test[\"PBoW\"].best_params_[\"Model__sampler__weight_function\"]\n",
    "best_C = models_to_test[\"PBoW\"].best_params_[\"Predictor__C\"]\n",
    "\n",
    "result_list = []\n",
    "n_clusters_range = np.arange(10, 200, 10)\n",
    "for n_clusters in n_clusters_range:\n",
    "    final_pipeline = Pipeline([\n",
    "        (\"pbow\",  PersistentBow(KMeans(n_clusters, n_init=1, max_iter=100, random_state=42),\n",
    "                                sampler=RandomPDSampler(best_max_points, best_weight, random_state=42))),\n",
    "        (\"Predictor\", SVC(kernel=\"linear\",C = best_C))\n",
    "    ])\n",
    "    \n",
    "    results = cross_val_score(final_pipeline, X, y, cv=splits)\n",
    "    result_list.append(np.mean(results))\n",
    "    \n",
    "plt.plot(n_clusters_range, result_list, label=\"Accuracy score\")\n",
    "plt.xlabel(\"Components\")\n",
    "plt.legend()\n",
    "plt.title(\"Accuracy vs number of components\")"
   ]
  },
  {
   "cell_type": "markdown",
   "metadata": {},
   "source": [
    "## Plot - PBoW accuracy vs sampler max_points"
   ]
  },
  {
   "cell_type": "code",
   "execution_count": 17,
   "metadata": {},
   "outputs": [
    {
     "data": {
      "text/plain": [
       "Text(0.5, 1.0, 'Accuracy vs max_points')"
      ]
     },
     "execution_count": 17,
     "metadata": {},
     "output_type": "execute_result"
    },
    {
     "data": {
      "image/png": "[encoded data removed]",
      "text/plain": [
       "<Figure size 432x288 with 1 Axes>"
      ]
     },
     "metadata": {
      "needs_background": "light"
     },
     "output_type": "display_data"
    }
   ],
   "source": [
    "best_max_points = models_to_test[\"PBoW\"].best_params_[\"Model__sampler__max_points\"]\n",
    "best_n_clusters = models_to_test[\"PBoW\"].best_params_[\"Model__cluster__n_clusters\"]\n",
    "best_weight = models_to_test[\"PBoW\"].best_params_[\"Model__sampler__weight_function\"]\n",
    "best_C = models_to_test[\"PBoW\"].best_params_[\"Predictor__C\"]\n",
    "\n",
    "result_list = []\n",
    "max_points_range = np.arange(1000, 13000, 1000)\n",
    "for max_points in max_points_range:\n",
    "    final_pipeline = Pipeline([\n",
    "        (\"pbow\",  PersistentBow(KMeans(best_n_clusters, n_init=1, max_iter=100, random_state=42), \n",
    "                                sampler=RandomPDSampler(max_points, best_weight, random_state=42))),\n",
    "        (\"Predictor\", SVC(kernel=\"linear\", C=best_C))\n",
    "    ])\n",
    "    \n",
    "    results = cross_val_score(final_pipeline, X, y, cv=splits)\n",
    "    result_list.append(np.mean(results))\n",
    "    \n",
    "plt.plot(max_points_range, result_list, label=\"Accuracy score\")\n",
    "plt.xlabel(\"Max points\")\n",
    "plt.legend()\n",
    "plt.title(\"Accuracy vs max_points\")"
   ]
  }
 ],
 "metadata": {
  "kernelspec": {
   "display_name": "Python 3",
   "language": "python",
   "name": "python3"
  },
  "language_info": {
   "codemirror_mode": {
    "name": "ipython",
    "version": 3
   },
   "file_extension": ".py",
   "mimetype": "text/x-python",
   "name": "python",
   "nbconvert_exporter": "python",
   "pygments_lexer": "ipython3",
   "version": "3.7.6"
  }
 },
 "nbformat": 4,
 "nbformat_minor": 4
}
