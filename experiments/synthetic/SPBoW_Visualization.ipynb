{
 "cells": [
  {
   "cell_type": "code",
   "execution_count": 1,
   "metadata": {},
   "outputs": [],
   "source": [
    "import sys\n",
    "sys.path.insert(0, \"../..\")"
   ]
  },
  {
   "cell_type": "code",
   "execution_count": 2,
   "metadata": {},
   "outputs": [],
   "source": [
    "import numpy as np\n",
    "import scipy.io\n",
    "from gudhi.representations.preprocessing import BirthPersistenceTransform, DiagramScaler\n",
    "from sklearn.preprocessing import MaxAbsScaler\n",
    "from sklearn.mixture import GaussianMixture\n",
    "from sklearn.pipeline import make_pipeline\n",
    "from preprocessing import *\n",
    "from persistent_bow import *\n",
    "from visualization import *"
   ]
  },
  {
   "cell_type": "code",
   "execution_count": 3,
   "metadata": {},
   "outputs": [],
   "source": [
    "data_path = \"./pd.mat\"\n",
    "data_mat = scipy.io.loadmat(data_path)\n",
    "data = data_mat[\"pds\"]"
   ]
  },
  {
   "cell_type": "code",
   "execution_count": 4,
   "metadata": {},
   "outputs": [],
   "source": [
    "# y - labels - type of diagram [0-7]\n",
    "# We transpose to iterate over diagram list\n",
    "y = []\n",
    "for label, diagram_list in enumerate(data.T):\n",
    "    y += len(diagram_list) * [label]\n",
    "y = np.array(y)\n",
    "\n",
    "# data.T = 2d array of diagrams as row, column as type\n",
    "X = data.T.reshape(-1)\n",
    "\n",
    "pipe = make_pipeline(BirthPersistenceTransform(), \n",
    "               DiagramScaler(use=True, \n",
    "                             scalers=[\n",
    "                                 ((0,), MaxAbsScaler(copy=False)),\n",
    "                                 ((1,), MaxAbsScaler(copy=False))]))\n",
    "\n",
    "preprocessed = np.array(pipe.fit_transform(X, y))"
   ]
  },
  {
   "cell_type": "code",
   "execution_count": 5,
   "metadata": {},
   "outputs": [
    {
     "data": {
      "text/plain": [
       "StablePersistentBow(mixture=GaussianMixture(covariance_type='full',\n",
       "                                            init_params='kmeans', max_iter=100,\n",
       "                                            means_init=None, n_components=10,\n",
       "                                            n_init=1, precisions_init=None,\n",
       "                                            random_state=42, reg_covar=1e-06,\n",
       "                                            tol=0.001, verbose=0,\n",
       "                                            verbose_interval=10,\n",
       "                                            warm_start=False,\n",
       "                                            weights_init=None),\n",
       "                    sampler=None, scaler=None, transformator=None)"
      ]
     },
     "execution_count": 5,
     "metadata": {},
     "output_type": "execute_result"
    }
   ],
   "source": [
    "vectorizer = StablePersistentBow(GaussianMixture(10, random_state=42), transformator=None, scaler=None)\n",
    "vectorizer.fit(preprocessed)"
   ]
  },
  {
   "cell_type": "code",
   "execution_count": 21,
   "metadata": {},
   "outputs": [
    {
     "data": {
      "text/plain": [
       "array([[2.53487279e+00, 1.86202252e-15, 5.00040955e+00, ...,\n",
       "        3.33183313e-02, 2.57447159e-04, 1.92045135e+00],\n",
       "       [2.15864635e+00, 3.77881259e-17, 3.94513696e+00, ...,\n",
       "        3.72132963e-02, 1.77836965e-04, 3.84170966e+00],\n",
       "       [2.87913426e+00, 4.26817386e-18, 5.20539368e+00, ...,\n",
       "        3.54263013e-02, 3.41718916e-04, 2.55879331e+00],\n",
       "       ...,\n",
       "       [1.39301648e+00, 1.88743538e-05, 8.28256904e-01, ...,\n",
       "        2.31313302e-02, 7.72643546e-03, 8.33898704e-01],\n",
       "       [1.32994773e+00, 2.81233576e-09, 1.03973227e+00, ...,\n",
       "        8.93675597e-03, 4.09588368e-03, 8.94315541e-01],\n",
       "       [1.68958479e+00, 1.65908079e-10, 1.85591358e+00, ...,\n",
       "        6.48391659e-03, 4.64488164e-03, 8.70835916e-01]])"
      ]
     },
     "execution_count": 21,
     "metadata": {},
     "output_type": "execute_result"
    }
   ],
   "source": [
    "vectorizer.transform(preprocessed)"
   ]
  },
  {
   "cell_type": "code",
   "execution_count": 55,
   "metadata": {},
   "outputs": [],
   "source": [
    "x = np.linspace(0, 1)\n",
    "y = np.linspace(0, 1)\n",
    "X, Y = np.meshgrid(x, y)\n",
    "XX = np.array([X.ravel(), Y.ravel()]).T\n",
    "Z = -vectorizer.mixture.score_samples(XX)"
   ]
  },
  {
   "cell_type": "code",
   "execution_count": 22,
   "metadata": {},
   "outputs": [
    {
     "ename": "NameError",
     "evalue": "name 'Y' is not defined",
     "output_type": "error",
     "traceback": [
      "\u001b[0;31m---------------------------------------------------------------------------\u001b[0m",
      "\u001b[0;31mNameError\u001b[0m                                 Traceback (most recent call last)",
      "\u001b[0;32m<ipython-input-22-e8b75365e414>\u001b[0m in \u001b[0;36m<module>\u001b[0;34m\u001b[0m\n\u001b[0;32m----> 1\u001b[0;31m \u001b[0mplt\u001b[0m\u001b[0;34m.\u001b[0m\u001b[0mcontour\u001b[0m\u001b[0;34m(\u001b[0m\u001b[0mX\u001b[0m\u001b[0;34m,\u001b[0m \u001b[0mY\u001b[0m\u001b[0;34m,\u001b[0m \u001b[0mZ\u001b[0m\u001b[0;34m.\u001b[0m\u001b[0mreshape\u001b[0m\u001b[0;34m(\u001b[0m\u001b[0mX\u001b[0m\u001b[0;34m.\u001b[0m\u001b[0mshape\u001b[0m\u001b[0;34m)\u001b[0m\u001b[0;34m)\u001b[0m\u001b[0;34m\u001b[0m\u001b[0;34m\u001b[0m\u001b[0m\n\u001b[0m",
      "\u001b[0;31mNameError\u001b[0m: name 'Y' is not defined"
     ]
    }
   ],
   "source": [
    "plt.contour(X, Y, Z.reshape(X.shape))"
   ]
  },
  {
   "cell_type": "code",
   "execution_count": null,
   "metadata": {},
   "outputs": [],
   "source": []
  }
 ],
 "metadata": {
  "kernelspec": {
   "display_name": "Python 3",
   "language": "python",
   "name": "python3"
  },
  "language_info": {
   "codemirror_mode": {
    "name": "ipython",
    "version": 3
   },
   "file_extension": ".py",
   "mimetype": "text/x-python",
   "name": "python",
   "nbconvert_exporter": "python",
   "pygments_lexer": "ipython3",
   "version": "3.7.6"
  }
 },
 "nbformat": 4,
 "nbformat_minor": 4
}
