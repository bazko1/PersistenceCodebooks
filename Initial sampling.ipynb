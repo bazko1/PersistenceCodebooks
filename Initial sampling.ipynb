{
 "cells": [
  {
   "cell_type": "code",
   "execution_count": 2,
   "metadata": {},
   "outputs": [
    {
     "data": {
      "image/png": "[encoded data removed]",
      "text/plain": [
       "<Figure size 432x288 with 1 Axes>"
      ]
     },
     "metadata": {
      "needs_background": "light"
     },
     "output_type": "display_data"
    }
   ],
   "source": [
    "import matplotlib.pyplot as plot\n",
    "import gudhi\n",
    "\n",
    "# rips_on_tore3D_1307.pers obtained from write_persistence_diagram method\n",
    "persistence_file='/home/bazyli/gitworkspace/gitBKrp/pcodebooks/rawdata/exp01_synthetic/pd_gauss_0_1/Circle/11.h5.pc.simba.1.00001_3.persistence'\n",
    "a=gudhi.plot_persistence_diagram(persistence_file=persistence_file,\n",
    "    legend=True)\n",
    "plot.show()\n"
   ]
  },
  {
   "cell_type": "code",
   "execution_count": 3,
   "metadata": {},
   "outputs": [],
   "source": [
    "import numpy as np\n",
    "arr = gudhi.read_persistence_intervals_in_dimension(persistence_file, only_this_dim=1)"
   ]
  },
  {
   "cell_type": "code",
   "execution_count": 4,
   "metadata": {},
   "outputs": [],
   "source": [
    "from gudhi.representations.preprocessing import BirthPersistenceTransform"
   ]
  },
  {
   "cell_type": "code",
   "execution_count": 188,
   "metadata": {},
   "outputs": [],
   "source": [
    "arr = np.reshape(arr, (1,-1,2))"
   ]
  },
  {
   "cell_type": "code",
   "execution_count": 100,
   "metadata": {},
   "outputs": [],
   "source": [
    "transformer = BirthPersistenceTransform()"
   ]
  },
  {
   "cell_type": "code",
   "execution_count": 191,
   "metadata": {},
   "outputs": [],
   "source": [
    "arr = transformer.transform(arr)"
   ]
  },
  {
   "cell_type": "code",
   "execution_count": 203,
   "metadata": {},
   "outputs": [],
   "source": [
    "X = np.array(arr)"
   ]
  },
  {
   "cell_type": "code",
   "execution_count": 207,
   "metadata": {},
   "outputs": [],
   "source": [
    "X = X.reshape((2,-1,2))"
   ]
  },
  {
   "cell_type": "code",
   "execution_count": 210,
   "metadata": {},
   "outputs": [
    {
     "data": {
      "text/plain": [
       "(2, 17, 2)"
      ]
     },
     "execution_count": 210,
     "metadata": {},
     "output_type": "execute_result"
    }
   ],
   "source": [
    "X.shape"
   ]
  },
  {
   "cell_type": "code",
   "execution_count": 220,
   "metadata": {},
   "outputs": [
    {
     "data": {
      "text/plain": [
       "array([[0.0427533, 0.1304427],\n",
       "       [0.0283355, 0.0229157],\n",
       "       [0.0296474, 0.0163507]])"
      ]
     },
     "execution_count": 220,
     "metadata": {},
     "output_type": "execute_result"
    }
   ],
   "source": [
    "ps = RandomPDSampler(3, lambda x: x**2)\n",
    "ps.transform(X)"
   ]
  },
  {
   "cell_type": "markdown",
   "metadata": {},
   "source": [
    "# Matlab data loading and processing"
   ]
  },
  {
   "cell_type": "code",
   "execution_count": 354,
   "metadata": {},
   "outputs": [],
   "source": [
    "import numpy as np\n",
    "import scipy.io\n",
    "from gudhi.representations.preprocessing import BirthPersistenceTransform, DiagramScaler\n",
    "from sklearn.model_selection import train_test_split\n",
    "from sklearn.cluster import KMeans\n",
    "from sklearn.pipeline import Pipeline\n",
    "from preprocessing import *\n",
    "from persistent_bow import *\n",
    "from visualization import *"
   ]
  },
  {
   "cell_type": "code",
   "execution_count": 355,
   "metadata": {},
   "outputs": [],
   "source": [
    "data_path = \"./pd.mat\"\n",
    "data_mat = scipy.io.loadmat(data_path)\n",
    "data = data_mat[\"pds\"]"
   ]
  },
  {
   "cell_type": "code",
   "execution_count": 356,
   "metadata": {},
   "outputs": [
    {
     "data": {
      "text/plain": [
       "(50, 7)"
      ]
     },
     "execution_count": 356,
     "metadata": {},
     "output_type": "execute_result"
    }
   ],
   "source": [
    "data.shape # Here are 50 diagrams (rows), 7 types(cols) = 350 diagrams"
   ]
  },
  {
   "cell_type": "code",
   "execution_count": 357,
   "metadata": {},
   "outputs": [
    {
     "data": {
      "text/plain": [
       "(23, 2)"
      ]
     },
     "execution_count": 357,
     "metadata": {},
     "output_type": "execute_result"
    }
   ],
   "source": [
    "data[0][1].shape # each diagram has n rows and 2 colums # here we get first diagram from type \"1\""
   ]
  },
  {
   "cell_type": "code",
   "execution_count": 358,
   "metadata": {},
   "outputs": [],
   "source": [
    "# y - labels - type of diagram [0-7]\n",
    "# We transpose to iterate over diagram list\n",
    "y = []\n",
    "for label, diagram_list in enumerate(data.T):\n",
    "    y += len(diagram_list) * [label]\n",
    "y = np.array(y)\n",
    "\n",
    "# data.T = 2d array of diagrams as row, column as type\n",
    "X = data.T.reshape(-1)"
   ]
  },
  {
   "cell_type": "code",
   "execution_count": 359,
   "metadata": {},
   "outputs": [],
   "source": [
    "X_train, X_test, y_train, y_test = train_test_split(X, y, test_size=0.20, random_state=42)"
   ]
  },
  {
   "cell_type": "code",
   "execution_count": 376,
   "metadata": {},
   "outputs": [],
   "source": [
    "pipeline = Pipeline([\n",
    "    (\"name1\", BirthPersistenceTransform()),\n",
    "    (\"name2\", DiagramScaler()),\n",
    "    (\"name3\", RandomPDSampler(2500)),\n",
    "    #(\"name4\", PersistentBow(5))\n",
    "])\n",
    "\n",
    "bow = PersistentBow(7)"
   ]
  },
  {
   "cell_type": "code",
   "execution_count": 377,
   "metadata": {},
   "outputs": [
    {
     "data": {
      "text/plain": [
       "PersistentBow(algorithm='auto', copy_x=True, init='k-means++', max_iter=300,\n",
       "              n_clusters=7, n_init=10, n_jobs=None, precompute_distances='auto',\n",
       "              random_state=None, tol=0.0001, verbose=0)"
      ]
     },
     "execution_count": 377,
     "metadata": {},
     "output_type": "execute_result"
    }
   ],
   "source": [
    "transformed = pipeline.fit_transform(X_train)\n",
    "bow.fit(transformed)"
   ]
  },
  {
   "cell_type": "code",
   "execution_count": 378,
   "metadata": {},
   "outputs": [
    {
     "data": {
      "text/plain": [
       "<matplotlib.collections.PathCollection at 0x7f74c2b40760>"
      ]
     },
     "execution_count": 378,
     "metadata": {},
     "output_type": "execute_result"
    },
    {
     "data": {
      "image/png": "[encoded data removed]",
      "text/plain": [
       "<Figure size 432x288 with 1 Axes>"
      ]
     },
     "metadata": {
      "needs_background": "light"
     },
     "output_type": "display_data"
    }
   ],
   "source": [
    "plot_voronoi(bow, plot_range=(0.2, 0.2))\n",
    "plt.scatter(transformed[0][:, 0], transformed[0][:, 1], s=0.5)"
   ]
  },
  {
   "cell_type": "code",
   "execution_count": 379,
   "metadata": {},
   "outputs": [
    {
     "data": {
      "image/png": "[encoded data removed]",
      "text/plain": [
       "<Figure size 432x288 with 1 Axes>"
      ]
     },
     "metadata": {
      "needs_background": "light"
     },
     "output_type": "display_data"
    }
   ],
   "source": [
    "plot_persistence_bow(transformed[0], bow)"
   ]
  },
  {
   "cell_type": "markdown",
   "metadata": {},
   "source": [
    "### Wstepne proby uczenia"
   ]
  },
  {
   "cell_type": "code",
   "execution_count": 371,
   "metadata": {},
   "outputs": [],
   "source": [
    "from sklearn.metrics import accuracy_score\n",
    "from sklearn.svm import SVC"
   ]
  },
  {
   "cell_type": "code",
   "execution_count": 410,
   "metadata": {},
   "outputs": [],
   "source": [
    "# Generowanie wektorow persistence bag of words\n",
    "# do dodania do pipelineu ? nie wiadomo jeszcze jak ?\n",
    "\n",
    "def generate_vectors(diagrams, lr_bow):\n",
    "    train_M = []\n",
    "    for pd in diagrams:\n",
    "        pred_clusters = lr_bow.predict([pd])[0]\n",
    "        bins = list(range(lr_bow.n_clusters))\n",
    "        histogram = np.bincount(pred_clusters, minlength=lr_bow.n_clusters)\n",
    "        train_M.append(histogram)\n",
    "\n",
    "    return np.array(train_M)"
   ]
  },
  {
   "cell_type": "code",
   "execution_count": 411,
   "metadata": {},
   "outputs": [],
   "source": [
    "M_train = generate_vectors(X_train, bow)\n",
    "M_test = generate_vectors(X_test, bow)"
   ]
  },
  {
   "cell_type": "code",
   "execution_count": 412,
   "metadata": {},
   "outputs": [
    {
     "data": {
      "text/plain": [
       "(280, 7)"
      ]
     },
     "execution_count": 412,
     "metadata": {},
     "output_type": "execute_result"
    }
   ],
   "source": [
    "M_train.shape # ok mamy wektory a ich labelki to y_train"
   ]
  },
  {
   "cell_type": "code",
   "execution_count": 422,
   "metadata": {},
   "outputs": [
    {
     "data": {
      "text/plain": [
       "0.9571428571428572"
      ]
     },
     "execution_count": 422,
     "metadata": {},
     "output_type": "execute_result"
    }
   ],
   "source": [
    "svc = SVC(kernel='precomputed')\n",
    "\n",
    "# Nie wiem czy te jadra tak to jest poprawnie\n",
    "# Nie udalo mi sie wywnioskowac z artykulu jak ma funkcja k wygladac\n",
    "kernel_train = np.dot(M_train, M_train.T)  # precomputed linear kernel\n",
    "\n",
    "svc.fit(kernel_train, y_train)\n",
    "\n",
    "kernel_test = np.dot(M_test, M_train.T)\n",
    "y_pred = svc.predict(kernel_test)\n",
    "\n",
    "accuracy_score(y_pred,y_test)"
   ]
  }
 ],
 "metadata": {
  "kernelspec": {
   "display_name": "Python 3",
   "language": "python",
   "name": "python3"
  },
  "language_info": {
   "codemirror_mode": {
    "name": "ipython",
    "version": 3
   },
   "file_extension": ".py",
   "mimetype": "text/x-python",
   "name": "python",
   "nbconvert_exporter": "python",
   "pygments_lexer": "ipython3",
   "version": "3.8.0"
  }
 },
 "nbformat": 4,
 "nbformat_minor": 4
}
